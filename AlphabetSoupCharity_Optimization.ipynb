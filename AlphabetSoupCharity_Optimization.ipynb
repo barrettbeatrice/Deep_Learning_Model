{
  "cells": [
    {
      "cell_type": "markdown",
      "metadata": {
        "id": "qhkEJ8oZTuDQ"
      },
      "source": [
        "#OPTIMIZATION ATTEMPT 1, 2, 3 at 75% Accuracy\n",
        "\n"
      ]
    },
    {
      "cell_type": "code",
      "execution_count": 1,
      "metadata": {
        "colab": {
          "base_uri": "https://localhost:8080/",
          "height": 452
        },
        "id": "5h4x9UrjP92k",
        "outputId": "5b1e1127-2b6b-4fbb-a08a-7af885a723f1"
      },
      "outputs": [
        {
          "data": {
            "application/vnd.google.colaboratory.intrinsic+json": {
              "summary": "{\n  \"name\": \"application_df\",\n  \"rows\": 34299,\n  \"fields\": [\n    {\n      \"column\": \"EIN\",\n      \"properties\": {\n        \"dtype\": \"number\",\n        \"std\": 245147183,\n        \"min\": 10520599,\n        \"max\": 996086871,\n        \"num_unique_values\": 34299,\n        \"samples\": [\n          271598055,\n          900109768,\n          352562499\n        ],\n        \"semantic_type\": \"\",\n        \"description\": \"\"\n      }\n    },\n    {\n      \"column\": \"NAME\",\n      \"properties\": {\n        \"dtype\": \"string\",\n        \"num_unique_values\": 19568,\n        \"samples\": [\n          \"LOCAL 12 USW GOODYEAR INSTITUTE FORCAREER DEVELOPMENT\",\n          \"INTERNATION ASSOCIATION OF ELECTRICAL INSPECTORS\",\n          \"BRICKLAYERS & ALLIED CRAFTWORKERS LOCAL 13 VACATION FUND\"\n        ],\n        \"semantic_type\": \"\",\n        \"description\": \"\"\n      }\n    },\n    {\n      \"column\": \"APPLICATION_TYPE\",\n      \"properties\": {\n        \"dtype\": \"category\",\n        \"num_unique_values\": 17,\n        \"samples\": [\n          \"T10\",\n          \"T3\",\n          \"T6\"\n        ],\n        \"semantic_type\": \"\",\n        \"description\": \"\"\n      }\n    },\n    {\n      \"column\": \"AFFILIATION\",\n      \"properties\": {\n        \"dtype\": \"category\",\n        \"num_unique_values\": 6,\n        \"samples\": [\n          \"Independent\",\n          \"CompanySponsored\",\n          \"Other\"\n        ],\n        \"semantic_type\": \"\",\n        \"description\": \"\"\n      }\n    },\n    {\n      \"column\": \"CLASSIFICATION\",\n      \"properties\": {\n        \"dtype\": \"category\",\n        \"num_unique_values\": 71,\n        \"samples\": [\n          \"C1500\",\n          \"C1000\",\n          \"C1570\"\n        ],\n        \"semantic_type\": \"\",\n        \"description\": \"\"\n      }\n    },\n    {\n      \"column\": \"USE_CASE\",\n      \"properties\": {\n        \"dtype\": \"category\",\n        \"num_unique_values\": 5,\n        \"samples\": [\n          \"Preservation\",\n          \"Other\",\n          \"Heathcare\"\n        ],\n        \"semantic_type\": \"\",\n        \"description\": \"\"\n      }\n    },\n    {\n      \"column\": \"ORGANIZATION\",\n      \"properties\": {\n        \"dtype\": \"category\",\n        \"num_unique_values\": 4,\n        \"samples\": [\n          \"Co-operative\",\n          \"Corporation\",\n          \"Association\"\n        ],\n        \"semantic_type\": \"\",\n        \"description\": \"\"\n      }\n    },\n    {\n      \"column\": \"STATUS\",\n      \"properties\": {\n        \"dtype\": \"number\",\n        \"std\": 0,\n        \"min\": 0,\n        \"max\": 1,\n        \"num_unique_values\": 2,\n        \"samples\": [\n          0,\n          1\n        ],\n        \"semantic_type\": \"\",\n        \"description\": \"\"\n      }\n    },\n    {\n      \"column\": \"INCOME_AMT\",\n      \"properties\": {\n        \"dtype\": \"category\",\n        \"num_unique_values\": 9,\n        \"samples\": [\n          \"1M-5M\",\n          \"1-9999\"\n        ],\n        \"semantic_type\": \"\",\n        \"description\": \"\"\n      }\n    },\n    {\n      \"column\": \"SPECIAL_CONSIDERATIONS\",\n      \"properties\": {\n        \"dtype\": \"category\",\n        \"num_unique_values\": 2,\n        \"samples\": [\n          \"Y\",\n          \"N\"\n        ],\n        \"semantic_type\": \"\",\n        \"description\": \"\"\n      }\n    },\n    {\n      \"column\": \"ASK_AMT\",\n      \"properties\": {\n        \"dtype\": \"number\",\n        \"std\": 87130452,\n        \"min\": 5000,\n        \"max\": 8597806340,\n        \"num_unique_values\": 8747,\n        \"samples\": [\n          1328927,\n          42942\n        ],\n        \"semantic_type\": \"\",\n        \"description\": \"\"\n      }\n    },\n    {\n      \"column\": \"IS_SUCCESSFUL\",\n      \"properties\": {\n        \"dtype\": \"number\",\n        \"std\": 0,\n        \"min\": 0,\n        \"max\": 1,\n        \"num_unique_values\": 2,\n        \"samples\": [\n          0,\n          1\n        ],\n        \"semantic_type\": \"\",\n        \"description\": \"\"\n      }\n    }\n  ]\n}",
              "type": "dataframe",
              "variable_name": "application_df"
            },
            "text/html": [
              "\n",
              "  <div id=\"df-8aeb8579-bc8a-4080-a3d6-fc2439b8fe74\" class=\"colab-df-container\">\n",
              "    <div>\n",
              "<style scoped>\n",
              "    .dataframe tbody tr th:only-of-type {\n",
              "        vertical-align: middle;\n",
              "    }\n",
              "\n",
              "    .dataframe tbody tr th {\n",
              "        vertical-align: top;\n",
              "    }\n",
              "\n",
              "    .dataframe thead th {\n",
              "        text-align: right;\n",
              "    }\n",
              "</style>\n",
              "<table border=\"1\" class=\"dataframe\">\n",
              "  <thead>\n",
              "    <tr style=\"text-align: right;\">\n",
              "      <th></th>\n",
              "      <th>EIN</th>\n",
              "      <th>NAME</th>\n",
              "      <th>APPLICATION_TYPE</th>\n",
              "      <th>AFFILIATION</th>\n",
              "      <th>CLASSIFICATION</th>\n",
              "      <th>USE_CASE</th>\n",
              "      <th>ORGANIZATION</th>\n",
              "      <th>STATUS</th>\n",
              "      <th>INCOME_AMT</th>\n",
              "      <th>SPECIAL_CONSIDERATIONS</th>\n",
              "      <th>ASK_AMT</th>\n",
              "      <th>IS_SUCCESSFUL</th>\n",
              "    </tr>\n",
              "  </thead>\n",
              "  <tbody>\n",
              "    <tr>\n",
              "      <th>0</th>\n",
              "      <td>10520599</td>\n",
              "      <td>BLUE KNIGHTS MOTORCYCLE CLUB</td>\n",
              "      <td>T10</td>\n",
              "      <td>Independent</td>\n",
              "      <td>C1000</td>\n",
              "      <td>ProductDev</td>\n",
              "      <td>Association</td>\n",
              "      <td>1</td>\n",
              "      <td>0</td>\n",
              "      <td>N</td>\n",
              "      <td>5000</td>\n",
              "      <td>1</td>\n",
              "    </tr>\n",
              "    <tr>\n",
              "      <th>1</th>\n",
              "      <td>10531628</td>\n",
              "      <td>AMERICAN CHESAPEAKE CLUB CHARITABLE TR</td>\n",
              "      <td>T3</td>\n",
              "      <td>Independent</td>\n",
              "      <td>C2000</td>\n",
              "      <td>Preservation</td>\n",
              "      <td>Co-operative</td>\n",
              "      <td>1</td>\n",
              "      <td>1-9999</td>\n",
              "      <td>N</td>\n",
              "      <td>108590</td>\n",
              "      <td>1</td>\n",
              "    </tr>\n",
              "    <tr>\n",
              "      <th>2</th>\n",
              "      <td>10547893</td>\n",
              "      <td>ST CLOUD PROFESSIONAL FIREFIGHTERS</td>\n",
              "      <td>T5</td>\n",
              "      <td>CompanySponsored</td>\n",
              "      <td>C3000</td>\n",
              "      <td>ProductDev</td>\n",
              "      <td>Association</td>\n",
              "      <td>1</td>\n",
              "      <td>0</td>\n",
              "      <td>N</td>\n",
              "      <td>5000</td>\n",
              "      <td>0</td>\n",
              "    </tr>\n",
              "    <tr>\n",
              "      <th>3</th>\n",
              "      <td>10553066</td>\n",
              "      <td>SOUTHSIDE ATHLETIC ASSOCIATION</td>\n",
              "      <td>T3</td>\n",
              "      <td>CompanySponsored</td>\n",
              "      <td>C2000</td>\n",
              "      <td>Preservation</td>\n",
              "      <td>Trust</td>\n",
              "      <td>1</td>\n",
              "      <td>10000-24999</td>\n",
              "      <td>N</td>\n",
              "      <td>6692</td>\n",
              "      <td>1</td>\n",
              "    </tr>\n",
              "    <tr>\n",
              "      <th>4</th>\n",
              "      <td>10556103</td>\n",
              "      <td>GENETIC RESEARCH INSTITUTE OF THE DESERT</td>\n",
              "      <td>T3</td>\n",
              "      <td>Independent</td>\n",
              "      <td>C1000</td>\n",
              "      <td>Heathcare</td>\n",
              "      <td>Trust</td>\n",
              "      <td>1</td>\n",
              "      <td>100000-499999</td>\n",
              "      <td>N</td>\n",
              "      <td>142590</td>\n",
              "      <td>1</td>\n",
              "    </tr>\n",
              "  </tbody>\n",
              "</table>\n",
              "</div>\n",
              "    <div class=\"colab-df-buttons\">\n",
              "\n",
              "  <div class=\"colab-df-container\">\n",
              "    <button class=\"colab-df-convert\" onclick=\"convertToInteractive('df-8aeb8579-bc8a-4080-a3d6-fc2439b8fe74')\"\n",
              "            title=\"Convert this dataframe to an interactive table.\"\n",
              "            style=\"display:none;\">\n",
              "\n",
              "  <svg xmlns=\"http://www.w3.org/2000/svg\" height=\"24px\" viewBox=\"0 -960 960 960\">\n",
              "    <path d=\"M120-120v-720h720v720H120Zm60-500h600v-160H180v160Zm220 220h160v-160H400v160Zm0 220h160v-160H400v160ZM180-400h160v-160H180v160Zm440 0h160v-160H620v160ZM180-180h160v-160H180v160Zm440 0h160v-160H620v160Z\"/>\n",
              "  </svg>\n",
              "    </button>\n",
              "\n",
              "  <style>\n",
              "    .colab-df-container {\n",
              "      display:flex;\n",
              "      gap: 12px;\n",
              "    }\n",
              "\n",
              "    .colab-df-convert {\n",
              "      background-color: #E8F0FE;\n",
              "      border: none;\n",
              "      border-radius: 50%;\n",
              "      cursor: pointer;\n",
              "      display: none;\n",
              "      fill: #1967D2;\n",
              "      height: 32px;\n",
              "      padding: 0 0 0 0;\n",
              "      width: 32px;\n",
              "    }\n",
              "\n",
              "    .colab-df-convert:hover {\n",
              "      background-color: #E2EBFA;\n",
              "      box-shadow: 0px 1px 2px rgba(60, 64, 67, 0.3), 0px 1px 3px 1px rgba(60, 64, 67, 0.15);\n",
              "      fill: #174EA6;\n",
              "    }\n",
              "\n",
              "    .colab-df-buttons div {\n",
              "      margin-bottom: 4px;\n",
              "    }\n",
              "\n",
              "    [theme=dark] .colab-df-convert {\n",
              "      background-color: #3B4455;\n",
              "      fill: #D2E3FC;\n",
              "    }\n",
              "\n",
              "    [theme=dark] .colab-df-convert:hover {\n",
              "      background-color: #434B5C;\n",
              "      box-shadow: 0px 1px 3px 1px rgba(0, 0, 0, 0.15);\n",
              "      filter: drop-shadow(0px 1px 2px rgba(0, 0, 0, 0.3));\n",
              "      fill: #FFFFFF;\n",
              "    }\n",
              "  </style>\n",
              "\n",
              "    <script>\n",
              "      const buttonEl =\n",
              "        document.querySelector('#df-8aeb8579-bc8a-4080-a3d6-fc2439b8fe74 button.colab-df-convert');\n",
              "      buttonEl.style.display =\n",
              "        google.colab.kernel.accessAllowed ? 'block' : 'none';\n",
              "\n",
              "      async function convertToInteractive(key) {\n",
              "        const element = document.querySelector('#df-8aeb8579-bc8a-4080-a3d6-fc2439b8fe74');\n",
              "        const dataTable =\n",
              "          await google.colab.kernel.invokeFunction('convertToInteractive',\n",
              "                                                    [key], {});\n",
              "        if (!dataTable) return;\n",
              "\n",
              "        const docLinkHtml = 'Like what you see? Visit the ' +\n",
              "          '<a target=\"_blank\" href=https://colab.research.google.com/notebooks/data_table.ipynb>data table notebook</a>'\n",
              "          + ' to learn more about interactive tables.';\n",
              "        element.innerHTML = '';\n",
              "        dataTable['output_type'] = 'display_data';\n",
              "        await google.colab.output.renderOutput(dataTable, element);\n",
              "        const docLink = document.createElement('div');\n",
              "        docLink.innerHTML = docLinkHtml;\n",
              "        element.appendChild(docLink);\n",
              "      }\n",
              "    </script>\n",
              "  </div>\n",
              "\n",
              "\n",
              "<div id=\"df-37528d27-c008-49e7-815c-c7772587240d\">\n",
              "  <button class=\"colab-df-quickchart\" onclick=\"quickchart('df-37528d27-c008-49e7-815c-c7772587240d')\"\n",
              "            title=\"Suggest charts\"\n",
              "            style=\"display:none;\">\n",
              "\n",
              "<svg xmlns=\"http://www.w3.org/2000/svg\" height=\"24px\"viewBox=\"0 0 24 24\"\n",
              "     width=\"24px\">\n",
              "    <g>\n",
              "        <path d=\"M19 3H5c-1.1 0-2 .9-2 2v14c0 1.1.9 2 2 2h14c1.1 0 2-.9 2-2V5c0-1.1-.9-2-2-2zM9 17H7v-7h2v7zm4 0h-2V7h2v10zm4 0h-2v-4h2v4z\"/>\n",
              "    </g>\n",
              "</svg>\n",
              "  </button>\n",
              "\n",
              "<style>\n",
              "  .colab-df-quickchart {\n",
              "      --bg-color: #E8F0FE;\n",
              "      --fill-color: #1967D2;\n",
              "      --hover-bg-color: #E2EBFA;\n",
              "      --hover-fill-color: #174EA6;\n",
              "      --disabled-fill-color: #AAA;\n",
              "      --disabled-bg-color: #DDD;\n",
              "  }\n",
              "\n",
              "  [theme=dark] .colab-df-quickchart {\n",
              "      --bg-color: #3B4455;\n",
              "      --fill-color: #D2E3FC;\n",
              "      --hover-bg-color: #434B5C;\n",
              "      --hover-fill-color: #FFFFFF;\n",
              "      --disabled-bg-color: #3B4455;\n",
              "      --disabled-fill-color: #666;\n",
              "  }\n",
              "\n",
              "  .colab-df-quickchart {\n",
              "    background-color: var(--bg-color);\n",
              "    border: none;\n",
              "    border-radius: 50%;\n",
              "    cursor: pointer;\n",
              "    display: none;\n",
              "    fill: var(--fill-color);\n",
              "    height: 32px;\n",
              "    padding: 0;\n",
              "    width: 32px;\n",
              "  }\n",
              "\n",
              "  .colab-df-quickchart:hover {\n",
              "    background-color: var(--hover-bg-color);\n",
              "    box-shadow: 0 1px 2px rgba(60, 64, 67, 0.3), 0 1px 3px 1px rgba(60, 64, 67, 0.15);\n",
              "    fill: var(--button-hover-fill-color);\n",
              "  }\n",
              "\n",
              "  .colab-df-quickchart-complete:disabled,\n",
              "  .colab-df-quickchart-complete:disabled:hover {\n",
              "    background-color: var(--disabled-bg-color);\n",
              "    fill: var(--disabled-fill-color);\n",
              "    box-shadow: none;\n",
              "  }\n",
              "\n",
              "  .colab-df-spinner {\n",
              "    border: 2px solid var(--fill-color);\n",
              "    border-color: transparent;\n",
              "    border-bottom-color: var(--fill-color);\n",
              "    animation:\n",
              "      spin 1s steps(1) infinite;\n",
              "  }\n",
              "\n",
              "  @keyframes spin {\n",
              "    0% {\n",
              "      border-color: transparent;\n",
              "      border-bottom-color: var(--fill-color);\n",
              "      border-left-color: var(--fill-color);\n",
              "    }\n",
              "    20% {\n",
              "      border-color: transparent;\n",
              "      border-left-color: var(--fill-color);\n",
              "      border-top-color: var(--fill-color);\n",
              "    }\n",
              "    30% {\n",
              "      border-color: transparent;\n",
              "      border-left-color: var(--fill-color);\n",
              "      border-top-color: var(--fill-color);\n",
              "      border-right-color: var(--fill-color);\n",
              "    }\n",
              "    40% {\n",
              "      border-color: transparent;\n",
              "      border-right-color: var(--fill-color);\n",
              "      border-top-color: var(--fill-color);\n",
              "    }\n",
              "    60% {\n",
              "      border-color: transparent;\n",
              "      border-right-color: var(--fill-color);\n",
              "    }\n",
              "    80% {\n",
              "      border-color: transparent;\n",
              "      border-right-color: var(--fill-color);\n",
              "      border-bottom-color: var(--fill-color);\n",
              "    }\n",
              "    90% {\n",
              "      border-color: transparent;\n",
              "      border-bottom-color: var(--fill-color);\n",
              "    }\n",
              "  }\n",
              "</style>\n",
              "\n",
              "  <script>\n",
              "    async function quickchart(key) {\n",
              "      const quickchartButtonEl =\n",
              "        document.querySelector('#' + key + ' button');\n",
              "      quickchartButtonEl.disabled = true;  // To prevent multiple clicks.\n",
              "      quickchartButtonEl.classList.add('colab-df-spinner');\n",
              "      try {\n",
              "        const charts = await google.colab.kernel.invokeFunction(\n",
              "            'suggestCharts', [key], {});\n",
              "      } catch (error) {\n",
              "        console.error('Error during call to suggestCharts:', error);\n",
              "      }\n",
              "      quickchartButtonEl.classList.remove('colab-df-spinner');\n",
              "      quickchartButtonEl.classList.add('colab-df-quickchart-complete');\n",
              "    }\n",
              "    (() => {\n",
              "      let quickchartButtonEl =\n",
              "        document.querySelector('#df-37528d27-c008-49e7-815c-c7772587240d button');\n",
              "      quickchartButtonEl.style.display =\n",
              "        google.colab.kernel.accessAllowed ? 'block' : 'none';\n",
              "    })();\n",
              "  </script>\n",
              "</div>\n",
              "\n",
              "    </div>\n",
              "  </div>\n"
            ],
            "text/plain": [
              "        EIN                                      NAME APPLICATION_TYPE  \\\n",
              "0  10520599              BLUE KNIGHTS MOTORCYCLE CLUB              T10   \n",
              "1  10531628    AMERICAN CHESAPEAKE CLUB CHARITABLE TR               T3   \n",
              "2  10547893        ST CLOUD PROFESSIONAL FIREFIGHTERS               T5   \n",
              "3  10553066            SOUTHSIDE ATHLETIC ASSOCIATION               T3   \n",
              "4  10556103  GENETIC RESEARCH INSTITUTE OF THE DESERT               T3   \n",
              "\n",
              "        AFFILIATION CLASSIFICATION      USE_CASE  ORGANIZATION  STATUS  \\\n",
              "0       Independent          C1000    ProductDev   Association       1   \n",
              "1       Independent          C2000  Preservation  Co-operative       1   \n",
              "2  CompanySponsored          C3000    ProductDev   Association       1   \n",
              "3  CompanySponsored          C2000  Preservation         Trust       1   \n",
              "4       Independent          C1000     Heathcare         Trust       1   \n",
              "\n",
              "      INCOME_AMT SPECIAL_CONSIDERATIONS  ASK_AMT  IS_SUCCESSFUL  \n",
              "0              0                      N     5000              1  \n",
              "1         1-9999                      N   108590              1  \n",
              "2              0                      N     5000              0  \n",
              "3    10000-24999                      N     6692              1  \n",
              "4  100000-499999                      N   142590              1  "
            ]
          },
          "execution_count": 1,
          "metadata": {},
          "output_type": "execute_result"
        }
      ],
      "source": [
        "# Import our dependencies\n",
        "from sklearn.model_selection import train_test_split\n",
        "from sklearn.preprocessing import StandardScaler\n",
        "import pandas as pd\n",
        "import tensorflow as tf\n",
        "\n",
        "#  Import and read the charity_data.csv.\n",
        "import pandas as pd\n",
        "application_df = pd.read_csv(\"https://static.bc-edx.com/data/dl-1-2/m21/lms/starter/charity_data.csv\")\n",
        "application_df.head()\n",
        "\n"
      ]
    },
    {
      "cell_type": "code",
      "execution_count": 2,
      "metadata": {
        "colab": {
          "base_uri": "https://localhost:8080/",
          "height": 244
        },
        "id": "caWZ3zYSYlcU",
        "outputId": "bf483c56-92f6-4bfb-b754-4f39439f3830"
      },
      "outputs": [
        {
          "data": {
            "application/vnd.google.colaboratory.intrinsic+json": {
              "summary": "{\n  \"name\": \"application_df\",\n  \"rows\": 34299,\n  \"fields\": [\n    {\n      \"column\": \"APPLICATION_TYPE\",\n      \"properties\": {\n        \"dtype\": \"category\",\n        \"num_unique_values\": 17,\n        \"samples\": [\n          \"T10\",\n          \"T3\",\n          \"T6\"\n        ],\n        \"semantic_type\": \"\",\n        \"description\": \"\"\n      }\n    },\n    {\n      \"column\": \"AFFILIATION\",\n      \"properties\": {\n        \"dtype\": \"category\",\n        \"num_unique_values\": 6,\n        \"samples\": [\n          \"Independent\",\n          \"CompanySponsored\",\n          \"Other\"\n        ],\n        \"semantic_type\": \"\",\n        \"description\": \"\"\n      }\n    },\n    {\n      \"column\": \"CLASSIFICATION\",\n      \"properties\": {\n        \"dtype\": \"category\",\n        \"num_unique_values\": 71,\n        \"samples\": [\n          \"C1500\",\n          \"C1000\",\n          \"C1570\"\n        ],\n        \"semantic_type\": \"\",\n        \"description\": \"\"\n      }\n    },\n    {\n      \"column\": \"USE_CASE\",\n      \"properties\": {\n        \"dtype\": \"category\",\n        \"num_unique_values\": 5,\n        \"samples\": [\n          \"Preservation\",\n          \"Other\",\n          \"Heathcare\"\n        ],\n        \"semantic_type\": \"\",\n        \"description\": \"\"\n      }\n    },\n    {\n      \"column\": \"ORGANIZATION\",\n      \"properties\": {\n        \"dtype\": \"category\",\n        \"num_unique_values\": 4,\n        \"samples\": [\n          \"Co-operative\",\n          \"Corporation\",\n          \"Association\"\n        ],\n        \"semantic_type\": \"\",\n        \"description\": \"\"\n      }\n    },\n    {\n      \"column\": \"STATUS\",\n      \"properties\": {\n        \"dtype\": \"number\",\n        \"std\": 0,\n        \"min\": 0,\n        \"max\": 1,\n        \"num_unique_values\": 2,\n        \"samples\": [\n          0,\n          1\n        ],\n        \"semantic_type\": \"\",\n        \"description\": \"\"\n      }\n    },\n    {\n      \"column\": \"INCOME_AMT\",\n      \"properties\": {\n        \"dtype\": \"category\",\n        \"num_unique_values\": 9,\n        \"samples\": [\n          \"1M-5M\",\n          \"1-9999\"\n        ],\n        \"semantic_type\": \"\",\n        \"description\": \"\"\n      }\n    },\n    {\n      \"column\": \"SPECIAL_CONSIDERATIONS\",\n      \"properties\": {\n        \"dtype\": \"category\",\n        \"num_unique_values\": 2,\n        \"samples\": [\n          \"Y\",\n          \"N\"\n        ],\n        \"semantic_type\": \"\",\n        \"description\": \"\"\n      }\n    },\n    {\n      \"column\": \"ASK_AMT\",\n      \"properties\": {\n        \"dtype\": \"number\",\n        \"std\": 87130452,\n        \"min\": 5000,\n        \"max\": 8597806340,\n        \"num_unique_values\": 8747,\n        \"samples\": [\n          1328927,\n          42942\n        ],\n        \"semantic_type\": \"\",\n        \"description\": \"\"\n      }\n    },\n    {\n      \"column\": \"IS_SUCCESSFUL\",\n      \"properties\": {\n        \"dtype\": \"number\",\n        \"std\": 0,\n        \"min\": 0,\n        \"max\": 1,\n        \"num_unique_values\": 2,\n        \"samples\": [\n          0,\n          1\n        ],\n        \"semantic_type\": \"\",\n        \"description\": \"\"\n      }\n    }\n  ]\n}",
              "type": "dataframe",
              "variable_name": "application_df"
            },
            "text/html": [
              "\n",
              "  <div id=\"df-2b9f4988-2e3c-413f-ab1a-632f7a250788\" class=\"colab-df-container\">\n",
              "    <div>\n",
              "<style scoped>\n",
              "    .dataframe tbody tr th:only-of-type {\n",
              "        vertical-align: middle;\n",
              "    }\n",
              "\n",
              "    .dataframe tbody tr th {\n",
              "        vertical-align: top;\n",
              "    }\n",
              "\n",
              "    .dataframe thead th {\n",
              "        text-align: right;\n",
              "    }\n",
              "</style>\n",
              "<table border=\"1\" class=\"dataframe\">\n",
              "  <thead>\n",
              "    <tr style=\"text-align: right;\">\n",
              "      <th></th>\n",
              "      <th>APPLICATION_TYPE</th>\n",
              "      <th>AFFILIATION</th>\n",
              "      <th>CLASSIFICATION</th>\n",
              "      <th>USE_CASE</th>\n",
              "      <th>ORGANIZATION</th>\n",
              "      <th>STATUS</th>\n",
              "      <th>INCOME_AMT</th>\n",
              "      <th>SPECIAL_CONSIDERATIONS</th>\n",
              "      <th>ASK_AMT</th>\n",
              "      <th>IS_SUCCESSFUL</th>\n",
              "    </tr>\n",
              "  </thead>\n",
              "  <tbody>\n",
              "    <tr>\n",
              "      <th>0</th>\n",
              "      <td>T10</td>\n",
              "      <td>Independent</td>\n",
              "      <td>C1000</td>\n",
              "      <td>ProductDev</td>\n",
              "      <td>Association</td>\n",
              "      <td>1</td>\n",
              "      <td>0</td>\n",
              "      <td>N</td>\n",
              "      <td>5000</td>\n",
              "      <td>1</td>\n",
              "    </tr>\n",
              "    <tr>\n",
              "      <th>1</th>\n",
              "      <td>T3</td>\n",
              "      <td>Independent</td>\n",
              "      <td>C2000</td>\n",
              "      <td>Preservation</td>\n",
              "      <td>Co-operative</td>\n",
              "      <td>1</td>\n",
              "      <td>1-9999</td>\n",
              "      <td>N</td>\n",
              "      <td>108590</td>\n",
              "      <td>1</td>\n",
              "    </tr>\n",
              "    <tr>\n",
              "      <th>2</th>\n",
              "      <td>T5</td>\n",
              "      <td>CompanySponsored</td>\n",
              "      <td>C3000</td>\n",
              "      <td>ProductDev</td>\n",
              "      <td>Association</td>\n",
              "      <td>1</td>\n",
              "      <td>0</td>\n",
              "      <td>N</td>\n",
              "      <td>5000</td>\n",
              "      <td>0</td>\n",
              "    </tr>\n",
              "    <tr>\n",
              "      <th>3</th>\n",
              "      <td>T3</td>\n",
              "      <td>CompanySponsored</td>\n",
              "      <td>C2000</td>\n",
              "      <td>Preservation</td>\n",
              "      <td>Trust</td>\n",
              "      <td>1</td>\n",
              "      <td>10000-24999</td>\n",
              "      <td>N</td>\n",
              "      <td>6692</td>\n",
              "      <td>1</td>\n",
              "    </tr>\n",
              "    <tr>\n",
              "      <th>4</th>\n",
              "      <td>T3</td>\n",
              "      <td>Independent</td>\n",
              "      <td>C1000</td>\n",
              "      <td>Heathcare</td>\n",
              "      <td>Trust</td>\n",
              "      <td>1</td>\n",
              "      <td>100000-499999</td>\n",
              "      <td>N</td>\n",
              "      <td>142590</td>\n",
              "      <td>1</td>\n",
              "    </tr>\n",
              "  </tbody>\n",
              "</table>\n",
              "</div>\n",
              "    <div class=\"colab-df-buttons\">\n",
              "\n",
              "  <div class=\"colab-df-container\">\n",
              "    <button class=\"colab-df-convert\" onclick=\"convertToInteractive('df-2b9f4988-2e3c-413f-ab1a-632f7a250788')\"\n",
              "            title=\"Convert this dataframe to an interactive table.\"\n",
              "            style=\"display:none;\">\n",
              "\n",
              "  <svg xmlns=\"http://www.w3.org/2000/svg\" height=\"24px\" viewBox=\"0 -960 960 960\">\n",
              "    <path d=\"M120-120v-720h720v720H120Zm60-500h600v-160H180v160Zm220 220h160v-160H400v160Zm0 220h160v-160H400v160ZM180-400h160v-160H180v160Zm440 0h160v-160H620v160ZM180-180h160v-160H180v160Zm440 0h160v-160H620v160Z\"/>\n",
              "  </svg>\n",
              "    </button>\n",
              "\n",
              "  <style>\n",
              "    .colab-df-container {\n",
              "      display:flex;\n",
              "      gap: 12px;\n",
              "    }\n",
              "\n",
              "    .colab-df-convert {\n",
              "      background-color: #E8F0FE;\n",
              "      border: none;\n",
              "      border-radius: 50%;\n",
              "      cursor: pointer;\n",
              "      display: none;\n",
              "      fill: #1967D2;\n",
              "      height: 32px;\n",
              "      padding: 0 0 0 0;\n",
              "      width: 32px;\n",
              "    }\n",
              "\n",
              "    .colab-df-convert:hover {\n",
              "      background-color: #E2EBFA;\n",
              "      box-shadow: 0px 1px 2px rgba(60, 64, 67, 0.3), 0px 1px 3px 1px rgba(60, 64, 67, 0.15);\n",
              "      fill: #174EA6;\n",
              "    }\n",
              "\n",
              "    .colab-df-buttons div {\n",
              "      margin-bottom: 4px;\n",
              "    }\n",
              "\n",
              "    [theme=dark] .colab-df-convert {\n",
              "      background-color: #3B4455;\n",
              "      fill: #D2E3FC;\n",
              "    }\n",
              "\n",
              "    [theme=dark] .colab-df-convert:hover {\n",
              "      background-color: #434B5C;\n",
              "      box-shadow: 0px 1px 3px 1px rgba(0, 0, 0, 0.15);\n",
              "      filter: drop-shadow(0px 1px 2px rgba(0, 0, 0, 0.3));\n",
              "      fill: #FFFFFF;\n",
              "    }\n",
              "  </style>\n",
              "\n",
              "    <script>\n",
              "      const buttonEl =\n",
              "        document.querySelector('#df-2b9f4988-2e3c-413f-ab1a-632f7a250788 button.colab-df-convert');\n",
              "      buttonEl.style.display =\n",
              "        google.colab.kernel.accessAllowed ? 'block' : 'none';\n",
              "\n",
              "      async function convertToInteractive(key) {\n",
              "        const element = document.querySelector('#df-2b9f4988-2e3c-413f-ab1a-632f7a250788');\n",
              "        const dataTable =\n",
              "          await google.colab.kernel.invokeFunction('convertToInteractive',\n",
              "                                                    [key], {});\n",
              "        if (!dataTable) return;\n",
              "\n",
              "        const docLinkHtml = 'Like what you see? Visit the ' +\n",
              "          '<a target=\"_blank\" href=https://colab.research.google.com/notebooks/data_table.ipynb>data table notebook</a>'\n",
              "          + ' to learn more about interactive tables.';\n",
              "        element.innerHTML = '';\n",
              "        dataTable['output_type'] = 'display_data';\n",
              "        await google.colab.output.renderOutput(dataTable, element);\n",
              "        const docLink = document.createElement('div');\n",
              "        docLink.innerHTML = docLinkHtml;\n",
              "        element.appendChild(docLink);\n",
              "      }\n",
              "    </script>\n",
              "  </div>\n",
              "\n",
              "\n",
              "<div id=\"df-86c51461-f8af-4fa9-a969-6fe459896bda\">\n",
              "  <button class=\"colab-df-quickchart\" onclick=\"quickchart('df-86c51461-f8af-4fa9-a969-6fe459896bda')\"\n",
              "            title=\"Suggest charts\"\n",
              "            style=\"display:none;\">\n",
              "\n",
              "<svg xmlns=\"http://www.w3.org/2000/svg\" height=\"24px\"viewBox=\"0 0 24 24\"\n",
              "     width=\"24px\">\n",
              "    <g>\n",
              "        <path d=\"M19 3H5c-1.1 0-2 .9-2 2v14c0 1.1.9 2 2 2h14c1.1 0 2-.9 2-2V5c0-1.1-.9-2-2-2zM9 17H7v-7h2v7zm4 0h-2V7h2v10zm4 0h-2v-4h2v4z\"/>\n",
              "    </g>\n",
              "</svg>\n",
              "  </button>\n",
              "\n",
              "<style>\n",
              "  .colab-df-quickchart {\n",
              "      --bg-color: #E8F0FE;\n",
              "      --fill-color: #1967D2;\n",
              "      --hover-bg-color: #E2EBFA;\n",
              "      --hover-fill-color: #174EA6;\n",
              "      --disabled-fill-color: #AAA;\n",
              "      --disabled-bg-color: #DDD;\n",
              "  }\n",
              "\n",
              "  [theme=dark] .colab-df-quickchart {\n",
              "      --bg-color: #3B4455;\n",
              "      --fill-color: #D2E3FC;\n",
              "      --hover-bg-color: #434B5C;\n",
              "      --hover-fill-color: #FFFFFF;\n",
              "      --disabled-bg-color: #3B4455;\n",
              "      --disabled-fill-color: #666;\n",
              "  }\n",
              "\n",
              "  .colab-df-quickchart {\n",
              "    background-color: var(--bg-color);\n",
              "    border: none;\n",
              "    border-radius: 50%;\n",
              "    cursor: pointer;\n",
              "    display: none;\n",
              "    fill: var(--fill-color);\n",
              "    height: 32px;\n",
              "    padding: 0;\n",
              "    width: 32px;\n",
              "  }\n",
              "\n",
              "  .colab-df-quickchart:hover {\n",
              "    background-color: var(--hover-bg-color);\n",
              "    box-shadow: 0 1px 2px rgba(60, 64, 67, 0.3), 0 1px 3px 1px rgba(60, 64, 67, 0.15);\n",
              "    fill: var(--button-hover-fill-color);\n",
              "  }\n",
              "\n",
              "  .colab-df-quickchart-complete:disabled,\n",
              "  .colab-df-quickchart-complete:disabled:hover {\n",
              "    background-color: var(--disabled-bg-color);\n",
              "    fill: var(--disabled-fill-color);\n",
              "    box-shadow: none;\n",
              "  }\n",
              "\n",
              "  .colab-df-spinner {\n",
              "    border: 2px solid var(--fill-color);\n",
              "    border-color: transparent;\n",
              "    border-bottom-color: var(--fill-color);\n",
              "    animation:\n",
              "      spin 1s steps(1) infinite;\n",
              "  }\n",
              "\n",
              "  @keyframes spin {\n",
              "    0% {\n",
              "      border-color: transparent;\n",
              "      border-bottom-color: var(--fill-color);\n",
              "      border-left-color: var(--fill-color);\n",
              "    }\n",
              "    20% {\n",
              "      border-color: transparent;\n",
              "      border-left-color: var(--fill-color);\n",
              "      border-top-color: var(--fill-color);\n",
              "    }\n",
              "    30% {\n",
              "      border-color: transparent;\n",
              "      border-left-color: var(--fill-color);\n",
              "      border-top-color: var(--fill-color);\n",
              "      border-right-color: var(--fill-color);\n",
              "    }\n",
              "    40% {\n",
              "      border-color: transparent;\n",
              "      border-right-color: var(--fill-color);\n",
              "      border-top-color: var(--fill-color);\n",
              "    }\n",
              "    60% {\n",
              "      border-color: transparent;\n",
              "      border-right-color: var(--fill-color);\n",
              "    }\n",
              "    80% {\n",
              "      border-color: transparent;\n",
              "      border-right-color: var(--fill-color);\n",
              "      border-bottom-color: var(--fill-color);\n",
              "    }\n",
              "    90% {\n",
              "      border-color: transparent;\n",
              "      border-bottom-color: var(--fill-color);\n",
              "    }\n",
              "  }\n",
              "</style>\n",
              "\n",
              "  <script>\n",
              "    async function quickchart(key) {\n",
              "      const quickchartButtonEl =\n",
              "        document.querySelector('#' + key + ' button');\n",
              "      quickchartButtonEl.disabled = true;  // To prevent multiple clicks.\n",
              "      quickchartButtonEl.classList.add('colab-df-spinner');\n",
              "      try {\n",
              "        const charts = await google.colab.kernel.invokeFunction(\n",
              "            'suggestCharts', [key], {});\n",
              "      } catch (error) {\n",
              "        console.error('Error during call to suggestCharts:', error);\n",
              "      }\n",
              "      quickchartButtonEl.classList.remove('colab-df-spinner');\n",
              "      quickchartButtonEl.classList.add('colab-df-quickchart-complete');\n",
              "    }\n",
              "    (() => {\n",
              "      let quickchartButtonEl =\n",
              "        document.querySelector('#df-86c51461-f8af-4fa9-a969-6fe459896bda button');\n",
              "      quickchartButtonEl.style.display =\n",
              "        google.colab.kernel.accessAllowed ? 'block' : 'none';\n",
              "    })();\n",
              "  </script>\n",
              "</div>\n",
              "\n",
              "    </div>\n",
              "  </div>\n"
            ],
            "text/plain": [
              "  APPLICATION_TYPE       AFFILIATION CLASSIFICATION      USE_CASE  \\\n",
              "0              T10       Independent          C1000    ProductDev   \n",
              "1               T3       Independent          C2000  Preservation   \n",
              "2               T5  CompanySponsored          C3000    ProductDev   \n",
              "3               T3  CompanySponsored          C2000  Preservation   \n",
              "4               T3       Independent          C1000     Heathcare   \n",
              "\n",
              "   ORGANIZATION  STATUS     INCOME_AMT SPECIAL_CONSIDERATIONS  ASK_AMT  \\\n",
              "0   Association       1              0                      N     5000   \n",
              "1  Co-operative       1         1-9999                      N   108590   \n",
              "2   Association       1              0                      N     5000   \n",
              "3         Trust       1    10000-24999                      N     6692   \n",
              "4         Trust       1  100000-499999                      N   142590   \n",
              "\n",
              "   IS_SUCCESSFUL  \n",
              "0              1  \n",
              "1              1  \n",
              "2              0  \n",
              "3              1  \n",
              "4              1  "
            ]
          },
          "execution_count": 2,
          "metadata": {},
          "output_type": "execute_result"
        }
      ],
      "source": [
        "# Drop the non-beneficial ID columns, 'EIN' and 'NAME'.\n",
        "application_df = application_df.drop(columns=['EIN', 'NAME'], axis=1)\n",
        "application_df.head()"
      ]
    },
    {
      "cell_type": "code",
      "execution_count": 3,
      "metadata": {
        "colab": {
          "base_uri": "https://localhost:8080/"
        },
        "id": "3ADM4vbPYmCU",
        "outputId": "6a76f32a-bd0e-4d55-8d14-0dec0a5c5d25"
      },
      "outputs": [
        {
          "data": {
            "text/plain": [
              "APPLICATION_TYPE            17\n",
              "AFFILIATION                  6\n",
              "CLASSIFICATION              71\n",
              "USE_CASE                     5\n",
              "ORGANIZATION                 4\n",
              "STATUS                       2\n",
              "INCOME_AMT                   9\n",
              "SPECIAL_CONSIDERATIONS       2\n",
              "ASK_AMT                   8747\n",
              "IS_SUCCESSFUL                2\n",
              "dtype: int64"
            ]
          },
          "execution_count": 3,
          "metadata": {},
          "output_type": "execute_result"
        }
      ],
      "source": [
        "# Determine the number of unique values in each column.\n",
        "application_df.nunique()"
      ]
    },
    {
      "cell_type": "code",
      "execution_count": 4,
      "metadata": {
        "id": "4GHglVQWZqcA"
      },
      "outputs": [],
      "source": [
        "# Look at APPLICATION_TYPE value counts for binning\n",
        "type_counts = application_df[\"APPLICATION_TYPE\"].value_counts()"
      ]
    },
    {
      "cell_type": "code",
      "execution_count": 5,
      "metadata": {
        "colab": {
          "base_uri": "https://localhost:8080/"
        },
        "id": "o90O6DoVZvb0",
        "outputId": "6418a25d-91eb-403d-8452-79ef4f4e773c"
      },
      "outputs": [
        {
          "data": {
            "text/plain": [
              "APPLICATION_TYPE\n",
              "T3       27037\n",
              "T4        1542\n",
              "T6        1216\n",
              "T5        1173\n",
              "T19       1065\n",
              "T8         737\n",
              "T7         725\n",
              "T10        528\n",
              "Other      276\n",
              "Name: count, dtype: int64"
            ]
          },
          "execution_count": 5,
          "metadata": {},
          "output_type": "execute_result"
        }
      ],
      "source": [
        "# Choose a cutoff value and create a list of application types to be replaced\n",
        "# use the variable name `application_types_to_replace`\n",
        "application_types_to_replace = list(type_counts[type_counts < 500].index)\n",
        "\n",
        "# Replace in dataframe\n",
        "for app in application_types_to_replace:\n",
        "    application_df['APPLICATION_TYPE'] = application_df['APPLICATION_TYPE'].replace(app,\"Other\")\n",
        "\n",
        "# Check to make sure binning was successful\n",
        "application_df['APPLICATION_TYPE'].value_counts()"
      ]
    },
    {
      "cell_type": "code",
      "execution_count": 6,
      "metadata": {
        "colab": {
          "base_uri": "https://localhost:8080/"
        },
        "id": "TcwUlDTCZvo1",
        "outputId": "38a6d945-24ea-4c2e-9e93-66b72584a262"
      },
      "outputs": [
        {
          "name": "stdout",
          "output_type": "stream",
          "text": [
            "CLASSIFICATION\n",
            "C1000    17326\n",
            "C2000     6074\n",
            "C1200     4837\n",
            "C3000     1918\n",
            "C2100     1883\n",
            "         ...  \n",
            "C4120        1\n",
            "C8210        1\n",
            "C2561        1\n",
            "C4500        1\n",
            "C2150        1\n",
            "Name: count, Length: 71, dtype: int64\n"
          ]
        }
      ],
      "source": [
        "# Look at CLASSIFICATION value counts for binning\n",
        "class_counts = application_df['CLASSIFICATION'].value_counts()\n",
        "print(class_counts)"
      ]
    },
    {
      "cell_type": "code",
      "execution_count": 7,
      "metadata": {
        "colab": {
          "base_uri": "https://localhost:8080/"
        },
        "id": "Q0W52o5YZvy9",
        "outputId": "faf83e63-7348-48bc-91da-27446f8962a4"
      },
      "outputs": [
        {
          "data": {
            "text/plain": [
              "CLASSIFICATION\n",
              "C1000    17326\n",
              "C2000     6074\n",
              "C1200     4837\n",
              "C3000     1918\n",
              "C2100     1883\n",
              "Name: count, dtype: int64"
            ]
          },
          "execution_count": 7,
          "metadata": {},
          "output_type": "execute_result"
        }
      ],
      "source": [
        "# You may find it helpful to look at CLASSIFICATION value counts >1\n",
        "class_counts_gt1 = class_counts.loc[class_counts > 1]\n",
        "class_counts_gt1.head()\n"
      ]
    },
    {
      "cell_type": "code",
      "execution_count": 8,
      "metadata": {
        "colab": {
          "base_uri": "https://localhost:8080/"
        },
        "id": "LPZFhIfwZwA0",
        "outputId": "0c35352b-c3a5-42a0-d7ff-d813925b21aa"
      },
      "outputs": [
        {
          "data": {
            "text/plain": [
              "CLASSIFICATION\n",
              "C1000    17326\n",
              "C2000     6074\n",
              "C1200     4837\n",
              "Other     2261\n",
              "C3000     1918\n",
              "C2100     1883\n",
              "Name: count, dtype: int64"
            ]
          },
          "execution_count": 8,
          "metadata": {},
          "output_type": "execute_result"
        }
      ],
      "source": [
        "# Choose a cutoff value and create a list of classifications to be replaced\n",
        "# use the variable name `classifications_to_replace`\n",
        "classifications_to_replace = list(class_counts[class_counts < 1000].index)\n",
        "\n",
        "# Replace in dataframe\n",
        "for cls in classifications_to_replace:\n",
        "    application_df['CLASSIFICATION'] = application_df['CLASSIFICATION'].replace(cls,\"Other\")\n",
        "\n",
        "# Check to make sure binning was successful\n",
        "application_df['CLASSIFICATION'].value_counts()"
      ]
    },
    {
      "cell_type": "code",
      "execution_count": 9,
      "metadata": {
        "id": "X0umo10sai2P"
      },
      "outputs": [],
      "source": [
        "# Convert categorical data to numeric with `pd.get_dummies`\n",
        "application_numeric = pd.get_dummies(application_df)"
      ]
    },
    {
      "cell_type": "code",
      "execution_count": 10,
      "metadata": {
        "id": "L-l8s1Hkaios"
      },
      "outputs": [],
      "source": [
        "# Split our preprocessed data into our features and target arrays\n",
        "X = application_numeric.drop(['IS_SUCCESSFUL'], axis=1)\n",
        "y = application_numeric['IS_SUCCESSFUL']\n",
        "\n",
        "# Split the preprocessed data into a training and testing dataset\n",
        "X_train, X_test, y_train, y_test = train_test_split(X, y, random_state=42)"
      ]
    },
    {
      "cell_type": "code",
      "execution_count": 11,
      "metadata": {
        "colab": {
          "base_uri": "https://localhost:8080/"
        },
        "id": "GNOW_0MXaifU",
        "outputId": "7fe7cabc-2d74-4a00-c441-a4e3563658b4"
      },
      "outputs": [
        {
          "data": {
            "text/plain": [
              "(25724, 43)"
            ]
          },
          "execution_count": 11,
          "metadata": {},
          "output_type": "execute_result"
        }
      ],
      "source": [
        "# Create a StandardScaler instances\n",
        "scaler = StandardScaler()\n",
        "\n",
        "# Fit the StandardScaler\n",
        "X_scaler = scaler.fit(X_train)\n",
        "\n",
        "# Scale the data\n",
        "X_train_scaled = X_scaler.transform(X_train)\n",
        "X_test_scaled = X_scaler.transform(X_test)\n",
        "\n",
        "X_train_scaled.shape"
      ]
    },
    {
      "cell_type": "markdown",
      "metadata": {
        "id": "sWbEIoqSbJPG"
      },
      "source": [
        "**Compile, Train and Evaluate the Model**"
      ]
    },
    {
      "cell_type": "code",
      "execution_count": 12,
      "metadata": {
        "colab": {
          "base_uri": "https://localhost:8080/"
        },
        "id": "zP50AW2NaiSC",
        "outputId": "4e1e1bcb-daed-465c-e8c1-2dc1b15b9ca9"
      },
      "outputs": [
        {
          "name": "stdout",
          "output_type": "stream",
          "text": [
            "Model: \"sequential\"\n",
            "_________________________________________________________________\n",
            " Layer (type)                Output Shape              Param #   \n",
            "=================================================================\n",
            " dense (Dense)               (None, 80)                3520      \n",
            "                                                                 \n",
            " dense_1 (Dense)             (None, 30)                2430      \n",
            "                                                                 \n",
            " dense_2 (Dense)             (None, 15)                465       \n",
            "                                                                 \n",
            " dense_3 (Dense)             (None, 1)                 16        \n",
            "                                                                 \n",
            "=================================================================\n",
            "Total params: 6431 (25.12 KB)\n",
            "Trainable params: 6431 (25.12 KB)\n",
            "Non-trainable params: 0 (0.00 Byte)\n",
            "_________________________________________________________________\n"
          ]
        }
      ],
      "source": [
        "# Define the model - Adding an additional hidden layer, with less nodes, to try to increase accuracy.\n",
        "# Increasing Epochs to 150\n",
        "# Adding another hidden layer\n",
        "# Increasing input features\n",
        "\n",
        "\n",
        "number_input_features = len(X_train_scaled[0])\n",
        "hidden_nodes_layer1 = 80\n",
        "hidden_nodes_layer2 = 30\n",
        "hidden_nodes_layer3 = 15\n",
        "\n",
        "nn = tf.keras.models.Sequential()\n",
        "\n",
        "# First hidden layer\n",
        "nn.add(tf.keras.layers.Dense(units=hidden_nodes_layer1,\n",
        "             input_dim=number_input_features, activation=\"tanh\"))\n",
        "\n",
        "# Second hidden layer\n",
        "nn.add(tf.keras.layers.Dense(\n",
        "    units=hidden_nodes_layer2, activation=\"relu\"))\n",
        "\n",
        "\n",
        "# Third hidden layer\n",
        "nn.add(tf.keras.layers.Dense(\n",
        "    units=hidden_nodes_layer3, activation=\"relu\"))\n",
        "\n",
        "# Output layer\n",
        "nn.add(tf.keras.layers.Dense(units=1, activation=\"relu\"))\n",
        "\n",
        "# Check the structure of the model\n",
        "nn.summary()"
      ]
    },
    {
      "cell_type": "code",
      "execution_count": 13,
      "metadata": {
        "id": "jA_GTX_iuY_B"
      },
      "outputs": [],
      "source": [
        "# Compile the model\n",
        "#Using 'adam' again, as it is a generally widely used optimizer metric\n",
        "nn.compile(loss='binary_crossentropy', optimizer='adam', metrics=['accuracy'])"
      ]
    },
    {
      "cell_type": "code",
      "execution_count": null,
      "metadata": {
        "colab": {
          "base_uri": "https://localhost:8080/"
        },
        "id": "zxeU1qtJuZJr",
        "outputId": "ac03a9da-6358-491f-c063-f340bc0d54d4"
      },
      "outputs": [
        {
          "name": "stdout",
          "output_type": "stream",
          "text": [
            "Epoch 1/150\n",
            "804/804 [==============================] - 4s 2ms/step - loss: 0.8841 - accuracy: 0.6929\n",
            "Epoch 2/150\n",
            "804/804 [==============================] - 2s 2ms/step - loss: 0.7934 - accuracy: 0.6960\n",
            "Epoch 3/150\n",
            "804/804 [==============================] - 2s 2ms/step - loss: 0.7825 - accuracy: 0.7131\n",
            "Epoch 4/150\n",
            "804/804 [==============================] - 2s 2ms/step - loss: 0.7761 - accuracy: 0.7162\n",
            "Epoch 5/150\n",
            "804/804 [==============================] - 2s 2ms/step - loss: 0.7188 - accuracy: 0.7116\n",
            "Epoch 6/150\n",
            "804/804 [==============================] - 2s 3ms/step - loss: 0.6127 - accuracy: 0.7154\n",
            "Epoch 7/150\n",
            "804/804 [==============================] - 2s 3ms/step - loss: 0.5794 - accuracy: 0.7226\n",
            "Epoch 8/150\n",
            "804/804 [==============================] - 2s 2ms/step - loss: 0.5674 - accuracy: 0.7265\n",
            "Epoch 9/150\n",
            "804/804 [==============================] - 2s 2ms/step - loss: 0.5811 - accuracy: 0.7276\n",
            "Epoch 10/150\n",
            "804/804 [==============================] - 2s 2ms/step - loss: 0.5723 - accuracy: 0.7218\n",
            "Epoch 11/150\n",
            "804/804 [==============================] - 2s 2ms/step - loss: 0.5625 - accuracy: 0.7285\n",
            "Epoch 12/150\n",
            "804/804 [==============================] - 2s 2ms/step - loss: 0.5601 - accuracy: 0.7284\n",
            "Epoch 13/150\n",
            "804/804 [==============================] - 2s 3ms/step - loss: 0.5621 - accuracy: 0.7276\n",
            "Epoch 14/150\n",
            "804/804 [==============================] - 3s 4ms/step - loss: 0.5674 - accuracy: 0.7288\n",
            "Epoch 15/150\n",
            "804/804 [==============================] - 2s 3ms/step - loss: 0.5692 - accuracy: 0.7287\n",
            "Epoch 16/150\n",
            "804/804 [==============================] - 3s 3ms/step - loss: 0.5599 - accuracy: 0.7287\n",
            "Epoch 17/150\n",
            "804/804 [==============================] - 2s 3ms/step - loss: 0.5550 - accuracy: 0.7289\n",
            "Epoch 18/150\n",
            "804/804 [==============================] - 2s 2ms/step - loss: 0.5568 - accuracy: 0.7308\n",
            "Epoch 19/150\n",
            "804/804 [==============================] - 2s 2ms/step - loss: 0.5644 - accuracy: 0.7261\n",
            "Epoch 20/150\n",
            "804/804 [==============================] - 2s 3ms/step - loss: 0.5553 - accuracy: 0.7316\n",
            "Epoch 21/150\n",
            "804/804 [==============================] - 2s 2ms/step - loss: 0.5564 - accuracy: 0.7316\n",
            "Epoch 22/150\n",
            "804/804 [==============================] - 2s 2ms/step - loss: 0.5685 - accuracy: 0.7229\n",
            "Epoch 23/150\n",
            "804/804 [==============================] - 2s 2ms/step - loss: 0.5493 - accuracy: 0.7309\n",
            "Epoch 24/150\n",
            "804/804 [==============================] - 2s 2ms/step - loss: 0.5527 - accuracy: 0.7310\n",
            "Epoch 25/150\n",
            "804/804 [==============================] - 2s 2ms/step - loss: 0.5519 - accuracy: 0.7319\n",
            "Epoch 26/150\n",
            "804/804 [==============================] - 2s 2ms/step - loss: 0.5494 - accuracy: 0.7321\n",
            "Epoch 27/150\n",
            "804/804 [==============================] - 2s 3ms/step - loss: 0.5550 - accuracy: 0.7310\n",
            "Epoch 28/150\n",
            "804/804 [==============================] - 3s 3ms/step - loss: 0.5580 - accuracy: 0.7278\n",
            "Epoch 29/150\n",
            "804/804 [==============================] - 2s 2ms/step - loss: 0.5645 - accuracy: 0.7302\n",
            "Epoch 30/150\n",
            "804/804 [==============================] - 2s 2ms/step - loss: 0.5657 - accuracy: 0.7324\n",
            "Epoch 31/150\n",
            "804/804 [==============================] - 2s 2ms/step - loss: 0.5656 - accuracy: 0.7334\n",
            "Epoch 32/150\n",
            "804/804 [==============================] - 2s 2ms/step - loss: 0.5652 - accuracy: 0.7328\n",
            "Epoch 33/150\n",
            "804/804 [==============================] - 2s 2ms/step - loss: 0.5691 - accuracy: 0.7320\n",
            "Epoch 34/150\n",
            "804/804 [==============================] - 2s 2ms/step - loss: 0.5816 - accuracy: 0.7330\n",
            "Epoch 35/150\n",
            "804/804 [==============================] - 3s 3ms/step - loss: 0.5701 - accuracy: 0.7338\n",
            "Epoch 36/150\n",
            "804/804 [==============================] - 2s 3ms/step - loss: 0.5654 - accuracy: 0.7339\n",
            "Epoch 37/150\n",
            "804/804 [==============================] - 2s 2ms/step - loss: 0.5646 - accuracy: 0.7331\n",
            "Epoch 38/150\n",
            "804/804 [==============================] - 2s 2ms/step - loss: 0.5720 - accuracy: 0.7289\n",
            "Epoch 39/150\n",
            "804/804 [==============================] - 2s 2ms/step - loss: 0.5659 - accuracy: 0.7341\n",
            "Epoch 40/150\n",
            "804/804 [==============================] - 2s 2ms/step - loss: 0.5668 - accuracy: 0.7347\n",
            "Epoch 41/150\n",
            "804/804 [==============================] - 2s 2ms/step - loss: 0.5718 - accuracy: 0.7345\n",
            "Epoch 42/150\n",
            "804/804 [==============================] - 2s 3ms/step - loss: 0.5712 - accuracy: 0.7320\n",
            "Epoch 43/150\n",
            "804/804 [==============================] - 2s 3ms/step - loss: 0.5674 - accuracy: 0.7347\n",
            "Epoch 44/150\n",
            "804/804 [==============================] - 2s 2ms/step - loss: 0.5690 - accuracy: 0.7330\n",
            "Epoch 45/150\n",
            "804/804 [==============================] - 2s 2ms/step - loss: 0.5582 - accuracy: 0.7312\n",
            "Epoch 46/150\n",
            "804/804 [==============================] - 2s 3ms/step - loss: 0.5543 - accuracy: 0.7334\n",
            "Epoch 47/150\n",
            "804/804 [==============================] - 2s 2ms/step - loss: 0.5596 - accuracy: 0.7310\n",
            "Epoch 48/150\n",
            "804/804 [==============================] - 2s 2ms/step - loss: 0.5523 - accuracy: 0.7334\n",
            "Epoch 49/150\n",
            "804/804 [==============================] - 2s 3ms/step - loss: 0.5492 - accuracy: 0.7357\n",
            "Epoch 50/150\n",
            "804/804 [==============================] - 3s 3ms/step - loss: 0.5498 - accuracy: 0.7337\n",
            "Epoch 51/150\n",
            "804/804 [==============================] - 2s 3ms/step - loss: 0.5541 - accuracy: 0.7344\n",
            "Epoch 52/150\n",
            "804/804 [==============================] - 2s 2ms/step - loss: 0.5496 - accuracy: 0.7330\n",
            "Epoch 53/150\n",
            "804/804 [==============================] - 2s 2ms/step - loss: 0.5485 - accuracy: 0.7357\n",
            "Epoch 54/150\n",
            "804/804 [==============================] - 2s 2ms/step - loss: 0.5526 - accuracy: 0.7353\n",
            "Epoch 55/150\n",
            "804/804 [==============================] - 2s 2ms/step - loss: 0.5513 - accuracy: 0.7349\n",
            "Epoch 56/150\n",
            "804/804 [==============================] - 2s 2ms/step - loss: 0.5521 - accuracy: 0.7355\n",
            "Epoch 57/150\n",
            "804/804 [==============================] - 2s 3ms/step - loss: 0.5525 - accuracy: 0.7335\n",
            "Epoch 58/150\n",
            "804/804 [==============================] - 2s 3ms/step - loss: 0.5552 - accuracy: 0.7359\n",
            "Epoch 59/150\n",
            "804/804 [==============================] - 2s 2ms/step - loss: 0.5540 - accuracy: 0.7366\n",
            "Epoch 60/150\n",
            "804/804 [==============================] - 2s 2ms/step - loss: 0.5528 - accuracy: 0.7351\n",
            "Epoch 61/150\n",
            "804/804 [==============================] - 2s 2ms/step - loss: 0.5524 - accuracy: 0.7371\n",
            "Epoch 62/150\n",
            "804/804 [==============================] - 2s 2ms/step - loss: 0.5582 - accuracy: 0.7285\n",
            "Epoch 63/150\n",
            "804/804 [==============================] - 2s 2ms/step - loss: 0.5490 - accuracy: 0.7367\n",
            "Epoch 64/150\n",
            "804/804 [==============================] - 2s 2ms/step - loss: 0.5537 - accuracy: 0.7331\n",
            "Epoch 65/150\n",
            "804/804 [==============================] - 3s 4ms/step - loss: 0.5505 - accuracy: 0.7358\n",
            "Epoch 66/150\n",
            "804/804 [==============================] - 3s 4ms/step - loss: 0.5510 - accuracy: 0.7324\n",
            "Epoch 67/150\n",
            "804/804 [==============================] - 2s 3ms/step - loss: 0.5644 - accuracy: 0.7351\n",
            "Epoch 68/150\n",
            "804/804 [==============================] - 2s 3ms/step - loss: 0.5638 - accuracy: 0.7378\n",
            "Epoch 69/150\n",
            "804/804 [==============================] - 2s 2ms/step - loss: 0.5626 - accuracy: 0.7373\n",
            "Epoch 70/150\n",
            "804/804 [==============================] - 2s 2ms/step - loss: 0.5567 - accuracy: 0.7368\n",
            "Epoch 71/150\n",
            "804/804 [==============================] - 2s 2ms/step - loss: 0.5605 - accuracy: 0.7371\n",
            "Epoch 72/150\n",
            "804/804 [==============================] - 2s 3ms/step - loss: 0.5670 - accuracy: 0.7377\n",
            "Epoch 73/150\n",
            "804/804 [==============================] - 2s 3ms/step - loss: 0.5720 - accuracy: 0.7372\n",
            "Epoch 74/150\n",
            "804/804 [==============================] - 2s 2ms/step - loss: 0.5665 - accuracy: 0.7380\n",
            "Epoch 75/150\n",
            "804/804 [==============================] - 2s 2ms/step - loss: 0.5655 - accuracy: 0.7373\n",
            "Epoch 76/150\n",
            "804/804 [==============================] - 2s 2ms/step - loss: 0.5557 - accuracy: 0.7374\n",
            "Epoch 77/150\n",
            "804/804 [==============================] - 2s 2ms/step - loss: 0.5648 - accuracy: 0.7379\n",
            "Epoch 78/150\n",
            "804/804 [==============================] - 2s 2ms/step - loss: 0.5594 - accuracy: 0.7371\n",
            "Epoch 79/150\n",
            "804/804 [==============================] - 2s 3ms/step - loss: 0.5518 - accuracy: 0.7363\n",
            "Epoch 80/150\n",
            "804/804 [==============================] - 2s 3ms/step - loss: 0.5564 - accuracy: 0.7349\n",
            "Epoch 81/150\n",
            "804/804 [==============================] - 2s 3ms/step - loss: 0.5547 - accuracy: 0.7378\n",
            "Epoch 82/150\n",
            "804/804 [==============================] - 2s 3ms/step - loss: 0.5529 - accuracy: 0.7393\n",
            "Epoch 83/150\n",
            "804/804 [==============================] - 2s 2ms/step - loss: 0.5523 - accuracy: 0.7392\n",
            "Epoch 84/150\n",
            "804/804 [==============================] - 2s 2ms/step - loss: 0.5574 - accuracy: 0.7372\n",
            "Epoch 85/150\n",
            "804/804 [==============================] - 2s 2ms/step - loss: 0.5573 - accuracy: 0.7391\n",
            "Epoch 86/150\n",
            "804/804 [==============================] - 2s 2ms/step - loss: 0.5734 - accuracy: 0.7391\n",
            "Epoch 87/150\n",
            "804/804 [==============================] - 4s 5ms/step - loss: 0.5534 - accuracy: 0.7384\n",
            "Epoch 88/150\n",
            "804/804 [==============================] - 3s 4ms/step - loss: 0.5774 - accuracy: 0.7372\n",
            "Epoch 89/150\n",
            "804/804 [==============================] - 2s 3ms/step - loss: 0.5566 - accuracy: 0.7378\n",
            "Epoch 90/150\n",
            "804/804 [==============================] - 2s 2ms/step - loss: 0.5563 - accuracy: 0.7388\n",
            "Epoch 91/150\n",
            "804/804 [==============================] - 2s 3ms/step - loss: 0.5536 - accuracy: 0.7374\n",
            "Epoch 92/150\n",
            "804/804 [==============================] - 2s 2ms/step - loss: 0.5550 - accuracy: 0.7369\n",
            "Epoch 93/150\n",
            "804/804 [==============================] - 2s 2ms/step - loss: 0.5560 - accuracy: 0.7385\n",
            "Epoch 94/150\n",
            "804/804 [==============================] - 2s 3ms/step - loss: 0.5711 - accuracy: 0.7369\n",
            "Epoch 95/150\n",
            "804/804 [==============================] - 2s 3ms/step - loss: 0.5759 - accuracy: 0.7387\n",
            "Epoch 96/150\n",
            "804/804 [==============================] - 2s 2ms/step - loss: 0.5754 - accuracy: 0.7387\n",
            "Epoch 97/150\n",
            "804/804 [==============================] - 2s 2ms/step - loss: 0.5683 - accuracy: 0.7380\n",
            "Epoch 98/150\n",
            "804/804 [==============================] - 2s 2ms/step - loss: 0.5636 - accuracy: 0.7392\n",
            "Epoch 99/150\n",
            "804/804 [==============================] - 2s 2ms/step - loss: 0.5699 - accuracy: 0.7384\n",
            "Epoch 100/150\n",
            "804/804 [==============================] - 3s 4ms/step - loss: 0.5728 - accuracy: 0.7355\n",
            "Epoch 101/150\n",
            "804/804 [==============================] - 3s 4ms/step - loss: 0.5719 - accuracy: 0.7386\n",
            "Epoch 102/150\n",
            "804/804 [==============================] - 2s 3ms/step - loss: 0.5745 - accuracy: 0.7364\n",
            "Epoch 103/150\n",
            "804/804 [==============================] - 2s 2ms/step - loss: 0.5740 - accuracy: 0.7376\n",
            "Epoch 104/150\n",
            "804/804 [==============================] - 2s 2ms/step - loss: 0.5869 - accuracy: 0.7279\n",
            "Epoch 105/150\n",
            "804/804 [==============================] - 2s 2ms/step - loss: 0.5797 - accuracy: 0.7358\n",
            "Epoch 106/150\n",
            "804/804 [==============================] - 2s 2ms/step - loss: 0.5871 - accuracy: 0.7388\n",
            "Epoch 107/150\n",
            "804/804 [==============================] - 2s 2ms/step - loss: 0.5843 - accuracy: 0.7390\n",
            "Epoch 108/150\n",
            "804/804 [==============================] - 2s 2ms/step - loss: 0.5844 - accuracy: 0.7390\n",
            "Epoch 109/150\n",
            "804/804 [==============================] - 2s 3ms/step - loss: 0.5844 - accuracy: 0.7383\n",
            "Epoch 110/150\n",
            "804/804 [==============================] - 2s 3ms/step - loss: 0.5860 - accuracy: 0.7397\n",
            "Epoch 111/150\n",
            "804/804 [==============================] - 2s 2ms/step - loss: 0.5872 - accuracy: 0.7384\n",
            "Epoch 112/150\n",
            "804/804 [==============================] - 2s 3ms/step - loss: 0.5881 - accuracy: 0.7396\n",
            "Epoch 113/150\n",
            "804/804 [==============================] - 2s 2ms/step - loss: 0.5969 - accuracy: 0.7395\n",
            "Epoch 114/150\n",
            "804/804 [==============================] - 2s 2ms/step - loss: 0.6079 - accuracy: 0.7378\n",
            "Epoch 115/150\n",
            "804/804 [==============================] - 2s 2ms/step - loss: 0.6083 - accuracy: 0.7380\n",
            "Epoch 116/150\n",
            "804/804 [==============================] - 3s 3ms/step - loss: 0.5928 - accuracy: 0.7384\n",
            "Epoch 117/150\n",
            "804/804 [==============================] - 3s 3ms/step - loss: 0.5966 - accuracy: 0.7369\n",
            "Epoch 118/150\n",
            "804/804 [==============================] - 2s 2ms/step - loss: 0.5946 - accuracy: 0.7373\n",
            "Epoch 119/150\n",
            "804/804 [==============================] - 2s 2ms/step - loss: 0.5910 - accuracy: 0.7383\n",
            "Epoch 120/150\n",
            "804/804 [==============================] - 2s 2ms/step - loss: 0.5899 - accuracy: 0.7391\n",
            "Epoch 121/150\n",
            "804/804 [==============================] - 2s 2ms/step - loss: 0.5913 - accuracy: 0.7389\n",
            "Epoch 122/150\n",
            "804/804 [==============================] - 2s 2ms/step - loss: 0.5883 - accuracy: 0.7407\n",
            "Epoch 123/150\n",
            "804/804 [==============================] - 2s 3ms/step - loss: 0.5856 - accuracy: 0.7403\n",
            "Epoch 124/150\n",
            "577/804 [====================>.........] - ETA: 0s - loss: 0.5908 - accuracy: 0.7374"
          ]
        }
      ],
      "source": [
        "# Train the model, add more epochs, to 150\n",
        "fit_model = nn.fit(X_train_scaled, y_train, epochs=150)"
      ]
    },
    {
      "cell_type": "code",
      "execution_count": null,
      "metadata": {
        "id": "EbLu5LI6uZRz"
      },
      "outputs": [],
      "source": [
        "# Evaluate the model using the test data\n",
        "model_loss, model_accuracy = nn.evaluate(X_test_scaled,y_test,verbose=2)\n",
        "print(f\"Loss: {model_loss}, Accuracy: {model_accuracy}\")"
      ]
    },
    {
      "cell_type": "code",
      "execution_count": null,
      "metadata": {
        "id": "vPTPOlWAwsUm"
      },
      "outputs": [],
      "source": [
        "#Accuracy actually decreased"
      ]
    },
    {
      "cell_type": "markdown",
      "metadata": {
        "id": "rtjkUe54ws2b"
      },
      "source": [
        "Definitely crossed the bridge by adding too many epochs and resulting in some over-fitting in the model training. Trying again."
      ]
    },
    {
      "cell_type": "markdown",
      "metadata": {
        "id": "OJSCFlLyxxy9"
      },
      "source": [
        "**Optimization Attempt 2**\n"
      ]
    },
    {
      "cell_type": "code",
      "execution_count": null,
      "metadata": {
        "id": "Gx7y5lcyx9k2"
      },
      "outputs": [],
      "source": [
        "#This time: Let's add a fourth hidden layer, with less units, and decrease the epochs to 50"
      ]
    },
    {
      "cell_type": "code",
      "execution_count": null,
      "metadata": {
        "id": "7DzxcEiJyQT0"
      },
      "outputs": [],
      "source": [
        "# Reread csv\n",
        "import pandas as pd\n",
        "application_df = pd.read_csv(\"https://static.bc-edx.com/data/dl-1-2/m21/lms/starter/charity_data.csv\")\n",
        "application_df.head()"
      ]
    },
    {
      "cell_type": "code",
      "execution_count": null,
      "metadata": {
        "id": "1saewM37zJkV"
      },
      "outputs": [],
      "source": [
        "# Drop the non-beneficial ID columns, 'EIN' and 'NAME'.\n",
        "application_df = application_df.drop(columns=['EIN','NAME'])"
      ]
    },
    {
      "cell_type": "code",
      "execution_count": null,
      "metadata": {
        "id": "ziNJxgEJzJvO"
      },
      "outputs": [],
      "source": [
        "application_df['APPLICATION_TYPE'].value_counts()"
      ]
    },
    {
      "cell_type": "code",
      "execution_count": null,
      "metadata": {
        "id": "QDI1cRyhzJ6A"
      },
      "outputs": [],
      "source": [
        "# Choose a cutoff value and create a list of application types to be replaced\n",
        "# use the variable name `application_types_to_replace`\n",
        "# Also am going to try decreasing the cutoff point to allow for more data input\n",
        "application_types_to_replace = list(type_counts[type_counts < 100].index)\n",
        "\n",
        "# Replace in dataframe\n",
        "for app in application_types_to_replace:\n",
        "    application_df['APPLICATION_TYPE'] = application_df['APPLICATION_TYPE'].replace(app,\"Other\")\n",
        "\n",
        "# Check to make sure binning was successful\n",
        "application_df['APPLICATION_TYPE'].value_counts()"
      ]
    },
    {
      "cell_type": "code",
      "execution_count": null,
      "metadata": {
        "id": "H6UxMyR6zKAW"
      },
      "outputs": [],
      "source": [
        "# Look at CLASSIFICATION value counts for binning\n",
        "class_counts = application_df['CLASSIFICATION'].value_counts()\n",
        "print(class_counts)"
      ]
    },
    {
      "cell_type": "code",
      "execution_count": null,
      "metadata": {
        "id": "VOG-Pi3B0bQN"
      },
      "outputs": [],
      "source": [
        "# Choose a cutoff value and create a list of classifications to be replaced\n",
        "# use the variable name `classifications_to_replace`\n",
        "# As above, also lower classification cutoff to have mroe bins\n",
        "classifications_to_replace = list(class_counts[class_counts < 500].index)\n",
        "\n",
        "# Replace in dataframe\n",
        "for cls in classifications_to_replace:\n",
        "    application_df['CLASSIFICATION'] = application_df['CLASSIFICATION'].replace(cls,\"Other\")\n",
        "\n",
        "# Check to make sure binning was successful\n",
        "application_df['CLASSIFICATION'].value_counts()"
      ]
    },
    {
      "cell_type": "code",
      "execution_count": null,
      "metadata": {
        "id": "i5b2cU8z0baG"
      },
      "outputs": [],
      "source": [
        "# Convert categorical data to numeric with `pd.get_dummies`\n",
        "application_numeric = pd.get_dummies(application_df)"
      ]
    },
    {
      "cell_type": "code",
      "execution_count": null,
      "metadata": {
        "id": "uxqFDX_70bho"
      },
      "outputs": [],
      "source": [
        "# Split our preprocessed data into our features and target arrays\n",
        "X = application_numeric.drop(['IS_SUCCESSFUL'], axis=1)\n",
        "y = application_numeric['IS_SUCCESSFUL']\n",
        "\n",
        "# Split the preprocessed data into a training and testing dataset\n",
        "X_train, X_test, y_train, y_test = train_test_split(X, y, random_state=42)"
      ]
    },
    {
      "cell_type": "code",
      "execution_count": null,
      "metadata": {
        "id": "rcovEaxt0brB"
      },
      "outputs": [],
      "source": [
        "# Create a StandardScaler instances\n",
        "scaler = StandardScaler()\n",
        "\n",
        "# Fit the StandardScaler\n",
        "X_scaler = scaler.fit(X_train)\n",
        "\n",
        "# Scale the data\n",
        "X_train_scaled = X_scaler.transform(X_train)\n",
        "X_test_scaled = X_scaler.transform(X_test)\n",
        "\n",
        "X_train_scaled.shape"
      ]
    },
    {
      "cell_type": "code",
      "execution_count": null,
      "metadata": {
        "id": "WuoFQsEN2DA5"
      },
      "outputs": [],
      "source": [
        "# Define the model - Add a fourth hidden layer\n",
        "\n",
        "number_input_features_3 = len(X_train_scaled[0])\n",
        "hidden_nodes_layer1_3 = 80\n",
        "hidden_nodes_layer2_3 = 30\n",
        "hidden_nodes_layer3_3 = 10\n",
        "hidden_nodes_layer4_3 = 5\n",
        "\n",
        "\n",
        "nn_change3 = tf.keras.models.Sequential()\n",
        "\n",
        "# First hidden layer\n",
        "nn_change3.add(tf.keras.layers.Dense(units=hidden_nodes_layer1_3,\n",
        "             input_dim=number_input_features_3, activation=\"tanh\"))\n",
        "\n",
        "# Second hidden layer\n",
        "nn_change3.add(tf.keras.layers.Dense(\n",
        "    units=hidden_nodes_layer2_3, activation=\"relu\"))\n",
        "\n",
        "# Third hidden layer\n",
        "nn_change3.add(tf.keras.layers.Dense(\n",
        "    units=hidden_nodes_layer3_3, activation=\"relu\"))\n",
        "\n",
        "#Fourth hidden layer\n",
        "nn_change3.add(tf.keras.layers.Dense(\n",
        "    units=hidden_nodes_layer4_3, activation=\"relu\"))\n",
        "\n",
        "# Output layer\n",
        "nn_change3.add(tf.keras.layers.Dense(units=1, activation=\"relu\"))\n",
        "\n",
        "# Check the structure of the model\n",
        "nn_change3.summary()"
      ]
    },
    {
      "cell_type": "code",
      "execution_count": null,
      "metadata": {
        "id": "1gtuuH7d2DLn"
      },
      "outputs": [],
      "source": [
        "# Compile the model\n",
        "nn_change3.compile(loss='binary_crossentropy', optimizer='adam', metrics=['accuracy'])"
      ]
    },
    {
      "cell_type": "code",
      "execution_count": null,
      "metadata": {
        "id": "pxVnKvs530PN"
      },
      "outputs": [],
      "source": [
        "# Train the model\n",
        "fit_model3 = nn_change3.fit(X_train_scaled, y_train, epochs=75)"
      ]
    },
    {
      "cell_type": "code",
      "execution_count": null,
      "metadata": {
        "id": "J8qHzzjS4nF3"
      },
      "outputs": [],
      "source": [
        "# Evaluate the model using the test data\n",
        "model_loss, model_accuracy = nn_change3.evaluate(X_test_scaled,y_test,verbose=2)\n",
        "print(f\"Loss: {model_loss}, Accuracy: {model_accuracy}\")"
      ]
    },
    {
      "cell_type": "code",
      "execution_count": null,
      "metadata": {
        "id": "09fhEjtW4rsY"
      },
      "outputs": [],
      "source": [
        "# Export our model to HDF5 file\n",
        "nn_change3.save('AlphabetSoupCharity_Optimization.h5')"
      ]
    },
    {
      "cell_type": "markdown",
      "metadata": {
        "id": "t8E5aT_85YMr"
      },
      "source": [
        "Still not able to achieve 75% accuracy, after changing around various metrics of the model for a second time. Trying again, focusing on keeping 3 hidden layers and making the units for nodes a lot smaller and simpler."
      ]
    },
    {
      "cell_type": "markdown",
      "metadata": {
        "id": "URfLFBfnU9Xi"
      },
      "source": [
        "**Attempt at Optimization 3**"
      ]
    },
    {
      "cell_type": "code",
      "execution_count": null,
      "metadata": {
        "id": "6id9DhTzUi78"
      },
      "outputs": [],
      "source": [
        "# Define the model - deep neural net, i.e., the number of input features and hidden nodes for each layer.\n",
        "number_input_features_4 = len(X_train_scaled[0])\n",
        "hidden_nodes_layer1_4 = 10\n",
        "hidden_nodes_layer2_4 = 8\n",
        "hidden_nodes_layer3_4 = 6\n",
        "\n",
        "nn_change4 = tf.keras.models.Sequential()\n",
        "\n",
        "# First hidden layer\n",
        "nn_change4.add(tf.keras.layers.Dense(units=hidden_nodes_layer1_4,\n",
        "             input_dim=number_input_features_4, activation=\"relu\"))\n",
        "\n",
        "\n",
        "# Second hidden layer\n",
        "nn_change4.add(tf.keras.layers.Dense(units=hidden_nodes_layer2_4,\n",
        "             input_dim=number_input_features_4, activation=\"relu\"))\n",
        "\n",
        "# Third hidden layer\n",
        "nn_change4.add(tf.keras.layers.Dense(\n",
        "    units=hidden_nodes_layer3_4, activation=\"relu\"))\n",
        "\n",
        "# Output layer\n",
        "nn_change4.add(tf.keras.layers.Dense(units=1, activation=\"relu\"))\n",
        "\n",
        "\n",
        "# Check the structure of the model\n",
        "nn_change4.summary()"
      ]
    },
    {
      "cell_type": "code",
      "execution_count": null,
      "metadata": {
        "id": "TNLJpxaLeDkk"
      },
      "outputs": [],
      "source": [
        "# Compile the model\n",
        "nn_change4.compile(loss='binary_crossentropy', optimizer='adam', metrics=['accuracy'])"
      ]
    },
    {
      "cell_type": "code",
      "execution_count": null,
      "metadata": {
        "id": "OxoB79wqeD1h"
      },
      "outputs": [],
      "source": [
        "# Train the model\n",
        "fit_model4 = nn_change4.fit(X_train_scaled, y_train, epochs=30)"
      ]
    },
    {
      "cell_type": "code",
      "execution_count": null,
      "metadata": {
        "id": "eoYXzKSVfwjE"
      },
      "outputs": [],
      "source": [
        "# Evaluate the model using the test data\n",
        "model_loss, model_accuracy = nn_change4.evaluate(X_test_scaled,y_test,verbose=2)\n",
        "print(f\"Loss: {model_loss}, Accuracy: {model_accuracy}\")"
      ]
    },
    {
      "cell_type": "code",
      "execution_count": null,
      "metadata": {
        "id": "G2tcTs6qf_Kt"
      },
      "outputs": [],
      "source": [
        "# Save the model to a HDF5 file\n",
        "nn_change4.save('/AlphabetSoupCharity_Optimization2.h5')"
      ]
    }
  ],
  "metadata": {
    "colab": {
      "provenance": []
    },
    "kernelspec": {
      "display_name": "Python 3",
      "name": "python3"
    },
    "language_info": {
      "name": "python"
    }
  },
  "nbformat": 4,
  "nbformat_minor": 0
}
